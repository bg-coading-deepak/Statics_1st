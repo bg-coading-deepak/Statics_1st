{
 "cells": [
  {
   "cell_type": "markdown",
   "id": "7a1826cc",
   "metadata": {},
   "source": [
    "### Q1. What is Statistics?"
   ]
  },
  {
   "cell_type": "code",
   "execution_count": null,
   "id": "ffc05b4e",
   "metadata": {},
   "outputs": [],
   "source": [
    "Statistics is the science concerned with developing and studying methods for collecting,\n",
    "analyzing,interpreting and presenting empirical data."
   ]
  },
  {
   "cell_type": "markdown",
   "id": "9c72229a",
   "metadata": {},
   "source": [
    "### Q2. Define the different types of statistics and give an example of when each type might be used."
   ]
  },
  {
   "cell_type": "code",
   "execution_count": null,
   "id": "ee1f70c4",
   "metadata": {},
   "outputs": [],
   "source": [
    "The two types of statistics are:\n",
    "Descriptive and inferential.\n",
    "\n",
    "For example,\n",
    "if we consider one math class to be a sample of the population of all math classes,\n",
    "then the average number of points earned by students in that one math class at the\n",
    "end of the term is an example of a statistic.\n",
    "\n",
    "The data is classified into majorly four categories:\n",
    "Nominal data.\n",
    "Ordinal data.\n",
    "Discrete data.\n",
    "Continuous data.\n"
   ]
  },
  {
   "cell_type": "markdown",
   "id": "8f5a44d1",
   "metadata": {},
   "source": [
    "### Q3. What are the different types of data and how do they differ from each other? Provide an example of each type of data."
   ]
  },
  {
   "cell_type": "code",
   "execution_count": null,
   "id": "27c48531",
   "metadata": {},
   "outputs": [],
   "source": [
    "Types of data\n",
    "1. Qualitative data\n",
    "a. Nominal Data\n",
    "b.Ordinal Data\n",
    "\n",
    "2.Quantative data\n",
    "a.Discrete data\n",
    "b.Continuous data\n"
   ]
  },
  {
   "cell_type": "code",
   "execution_count": null,
   "id": "8895f3e8",
   "metadata": {},
   "outputs": [],
   "source": [
    "1.Qualitative Data:-\n",
    "    \n",
    "Qualitative data is used to represent some characteristics or attributes of the data.\n",
    "The facts and figures depicted by the qualitative data cannot be computed.\n",
    "These properties reflect observable attributes. These are non-numerical in nature.\n",
    "\n",
    "Examples:-\n",
    "\n",
    "Attitudes of people to a political system.\n",
    "Music and art\n",
    "Intelligence\n",
    "Beauty of a person\n",
    "\n",
    ">> Qualitaive data is also two types--\n",
    "\n",
    "a. Nominal Data:-\n",
    "    Nominal data is a sub-category belonging to one of the types of qualitative information.\n",
    "    The examination of the nominal data is based on the usage of the grouping method.\n",
    "    This method is based on the principle of the grouping of data into different categories.\n",
    "    This is followed by the calculation of the frequency or the percentage of the data.\n",
    "    The visualization of this data is done using the pie charts.\n",
    "    \n",
    "    Examples:-\n",
    "        \n",
    ">Gender (Women, Men)\n",
    ">Eye color (Blue, Green, Brown)\n",
    ">Hair color (Blonde, Brown, Brunette, Red, etc.)\n",
    ">Marital status (Married, Single)\n",
    ">Religion (Muslim, Hindu, Christian)\n",
    "\n",
    "b. Ordinal Data:-\n",
    "    Ordinal data/variable is the specific type of data that follows a natural order.\n",
    "    The difference between the data values is not determined in the case of nominal data.\n",
    "    For instance, ordinal data variable is mostly found in surveys, economics,\n",
    "    questionnaires, and finance operations.\n",
    "    \n",
    "    Examples:-\n",
    "        \n",
    ">Feedback is recorded in the form of ratings from 1-10.\n",
    ">Education level: elementary school, high school, college.\n",
    ">Economic status: low, medium, and high.\n",
    ">Letter grades: A, B, C, and etc.\n",
    ">Customer level of satisfaction: very satisfied, satisfied, neutral, dissatisfied, very dissatisfied.\n",
    "\n"
   ]
  },
  {
   "cell_type": "code",
   "execution_count": null,
   "id": "fd9a78d6",
   "metadata": {},
   "outputs": [],
   "source": [
    "2 Quantative Data\n",
    "\n",
    "Quantitative data can be measured and is not just observable.\n",
    "The measurement of data is numerically recorded and represented.\n",
    "Calculations and interpretations can then be performed on the obtained results.\n",
    "Numerical data is indicated by quantitative data.\n",
    "\n",
    "Examples:-\n",
    "    \n",
    ">Daily temperature\n",
    ">Price\n",
    ">Weights\n",
    ">Income\n",
    "\n",
    "a.Descrete Data: -\n",
    "    \n",
    "Discrete data refers to the data values which can only attain certain specific values.\n",
    "Discrete data can’t attain a range of values. Discrete data can be represented using bar charts.\n",
    "For instance, ratings of a product made by the users can only be in discrete numbers.\n",
    "\n",
    "Examples:-\n",
    "    \n",
    ">The number of students in a class,\n",
    ">The number of chips in a bag,\n",
    ">The number of stars in the sky\n",
    "\n",
    "b. Continuous Data:-\n",
    "    \n",
    "Continuous Data can contain values between a certain range that is within the highest \n",
    "and lowest values.\n",
    "The corresponding difference between the highest and lowest value of these intervals\n",
    "can be termed as the range of data. \n",
    "\n",
    "Examples:-\n",
    "\n",
    "    \n",
    ">Height and weight of a student,\n",
    ">Daily temperature recordings of a place\n",
    ">Wind speed measurement"
   ]
  },
  {
   "cell_type": "markdown",
   "id": "1630c760",
   "metadata": {},
   "source": [
    "### Q4. Categorise the following datasets with respect to quantitative and qualitative data types:\n"
   ]
  },
  {
   "cell_type": "markdown",
   "id": "0529fb20",
   "metadata": {},
   "source": [
    "(i) Grading in exam: A+, A, B+, B, C+, C, D, E\n",
    "(ii) Colour of mangoes: yellow, green, orange, red\n",
    "(iii) Height data of a class: [178.9, 179, 179.5, 176, 177.2, 178.3, 175.8,...]\n",
    "(iv) Number of mangoes exported by a farm: [500, 600, 478, 672, ...]"
   ]
  },
  {
   "cell_type": "markdown",
   "id": "173ab5be",
   "metadata": {},
   "source": [
    "Answer :-"
   ]
  },
  {
   "cell_type": "code",
   "execution_count": null,
   "id": "711acaf5",
   "metadata": {},
   "outputs": [],
   "source": [
    "1.Qualitative Data\n",
    "2.Qualitative Data\n",
    "3.Quantative Data\n",
    "4.quantative Data"
   ]
  },
  {
   "cell_type": "markdown",
   "id": "161b908a",
   "metadata": {},
   "source": [
    "### Q5. Explain the concept of levels of measurement and give an example of a variable for each level."
   ]
  },
  {
   "cell_type": "code",
   "execution_count": null,
   "id": "343184c0",
   "metadata": {},
   "outputs": [],
   "source": [
    ">>Levels of measurement, also called scales of measurement,\n",
    "tell you how precisely variables are recorded.\n",
    "In scientific research, a variable is anything that can take on different values across\n",
    "your data set (e.g., height or test scores)."
   ]
  },
  {
   "cell_type": "code",
   "execution_count": null,
   "id": "5f213a4e",
   "metadata": {},
   "outputs": [],
   "source": [
    "There are 4 levels of measurement:\n",
    "\n",
    "1.Nominal: the data can only be categorized.\n",
    "    \n",
    "    Exapmle:\n",
    ">City of birth\n",
    ">Gender\n",
    ">Ethnicity\n",
    ">Car brands\n",
    ">Marital status\n",
    "\n",
    "2.Ordinal: the data can be categorized and ranked.\n",
    "    \n",
    "    Example:-\n",
    ">Top 5 Olympic medallists\n",
    ">Language ability (e.g., beginner, intermediate, fluent)\n",
    ">Likert-type questions  (e.g., very dissatisfied to very satisfied)        \n",
    "\n",
    "3.Interval: the data can be categorized, ranked, and evenly spaced.\n",
    "    \n",
    "    Example:-\n",
    "\n",
    ">Test scores (e.g., IQ or exams)\n",
    ">Personality inventories\n",
    ">Temperature in Fahrenheit or Celsius\n",
    "\n",
    "\n",
    "4.Ratio: the data can be categorized, ranked, evenly spaced, and has a natural zero.\n",
    "    \n",
    "    Example:-\n",
    "        \n",
    ">Height\n",
    ">Age\n",
    ">Weight\n",
    ">Temperature in Kelvin"
   ]
  },
  {
   "cell_type": "markdown",
   "id": "86098f41",
   "metadata": {},
   "source": [
    "### Q6. Why is it important to understand the level of measurement when analyzing data? Provide an example to illustrate your answer."
   ]
  },
  {
   "cell_type": "code",
   "execution_count": null,
   "id": "88fe754d",
   "metadata": {},
   "outputs": [],
   "source": [
    "It is important to understand the level of measurement of variables in research,\n",
    "because the level of measurement determines the type of statistical analysis that can be\n",
    "conducted, and, therefore, the type of conclusions that can be drawn from the research.\n"
   ]
  },
  {
   "cell_type": "markdown",
   "id": "e09c0dce",
   "metadata": {},
   "source": [
    "### Q7. How nominal data type is different from ordinal data type."
   ]
  },
  {
   "cell_type": "code",
   "execution_count": null,
   "id": "d57ab7f1",
   "metadata": {},
   "outputs": [],
   "source": [
    "Nominal data is classified without a natural order or rank,\n",
    "whereas ordinal data has a predetermined or natural order."
   ]
  },
  {
   "cell_type": "markdown",
   "id": "4e8c89b8",
   "metadata": {},
   "source": [
    "### Q8. Which type of plot can be used to display data in terms of range?"
   ]
  },
  {
   "cell_type": "markdown",
   "id": "36cac6ae",
   "metadata": {},
   "source": [
    "Histogram."
   ]
  },
  {
   "cell_type": "markdown",
   "id": "a1f3423c",
   "metadata": {},
   "source": [
    "### Q9. Describe the difference between descriptive and inferential statistics. Give an example of each type of statistics and explain how they are used."
   ]
  },
  {
   "cell_type": "code",
   "execution_count": null,
   "id": "b2d04dbe",
   "metadata": {},
   "outputs": [],
   "source": [
    "Inferential statistics helps to compare data, make hypotheses and predictions.\n",
    "Descriptive statistics explains already known data related to a particular sample or population \n",
    "of a small size. Inferential statistics,\n",
    "however, aims to draw inferences or conclusions about a whole population."
   ]
  },
  {
   "cell_type": "markdown",
   "id": "0f8f2f29",
   "metadata": {},
   "source": [
    "### Q10. What are some common measures of central tendency and variability used in statistics? Explain how each measure can be used to describe a dataset."
   ]
  },
  {
   "cell_type": "code",
   "execution_count": null,
   "id": "bb67e92e",
   "metadata": {},
   "outputs": [],
   "source": [
    "Median: “middle value” or the average of “middle two values” in a data set\n",
    "        when the numbers are arranged in an order. \n",
    "Mode: value that occurs with greatest frequency.\n",
    "        Solution: Most common number/Mode is 2. \n",
    "Variance: square of the standard deviation."
   ]
  }
 ],
 "metadata": {
  "kernelspec": {
   "display_name": "Python 3 (ipykernel)",
   "language": "python",
   "name": "python3"
  },
  "language_info": {
   "codemirror_mode": {
    "name": "ipython",
    "version": 3
   },
   "file_extension": ".py",
   "mimetype": "text/x-python",
   "name": "python",
   "nbconvert_exporter": "python",
   "pygments_lexer": "ipython3",
   "version": "3.9.12"
  }
 },
 "nbformat": 4,
 "nbformat_minor": 5
}
